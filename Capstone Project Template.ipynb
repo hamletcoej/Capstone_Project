{
 "cells": [
  {
   "cell_type": "markdown",
   "metadata": {
    "editable": true
   },
   "source": [
    "# Data Engineering Capstone Project\n",
    "\n",
    "#### Project Summary\n",
    "The purpose of the data engineering capstone project is to demonstrate what I've've learned throughout the data engineering nanodegree program. \n",
    "\n",
    "\n",
    "The project follows the follow steps:\n",
    "* Step 1: Scope the Project and Gather Data\n",
    "* Step 2: Explore and Assess the Data\n",
    "* Step 3: Define the Data Model\n",
    "* Step 4: Run ETL to Model the Data\n",
    "* Step 5: Complete Project Write Up"
   ]
  },
  {
   "cell_type": "code",
   "execution_count": 1,
   "metadata": {
    "editable": true
   },
   "outputs": [],
   "source": [
    "# Do all imports and installs here\n",
    "# import configparser\n",
    "# import os\n",
    "import pandas as pd\n",
    "from pyspark.sql import SparkSession\n",
    "from pyspark.sql.functions import udf, col, countDistinct\n",
    "from pyspark.sql import functions as F\n",
    "from pyspark.sql.functions import avg, isnan, when, count, col, udf, dayofmonth, dayofweek, month, year, weekofyear, monotonically_increasing_id\n",
    "import psycopg2\n",
    "import datetime as dt"
   ]
  },
  {
   "cell_type": "code",
   "execution_count": 2,
   "metadata": {
    "editable": true
   },
   "outputs": [],
   "source": [
    "# Intended to write parquet to s3 bucket but cannot do due to not having any more credit therefore done to local tables folder below\n",
    "\n",
    "# config = configparser.ConfigParser()\n",
    "# config.read('dl.cfg')\n",
    "\n",
    "# os.environ['AWS_ACCESS_KEY_ID']=config['KEYS']['AWS_ACCESS_KEY_ID']\n",
    "# os.environ['AWS_SECRET_ACCESS_KEY']=config['KEYS']['AWS_SECRET_ACCESS_KEY']"
   ]
  },
  {
   "cell_type": "markdown",
   "metadata": {
    "editable": true
   },
   "source": [
    "### Step 1: Scope the Project and Gather Data"
   ]
  },
  {
   "cell_type": "markdown",
   "metadata": {
    "editable": true
   },
   "source": [
    "**Scope**\n",
    "\n",
    "There will be 1 fact table with 5 dimension tables processed from the datasets below. This data model will be used for a further data analysis using SQL in order to see the relationship between the people immigrating to the US, the demmographics of the state / city they immigrated to and the average country average temprature.\n",
    "The main dataset is data on immigration to the United States, and supplementary datasets used are U.S. city demographics, and temperature data.\n",
    "\n",
    "Once the data is processed analytical queries can be executed on immigrate data, demographic data of city and state and average temprature.\n",
    "\n",
    "\n",
    "**Data Used:**\n",
    "\n",
    "- I94 Immigration Data\n",
    "- Temperature Data\n",
    "- Demographics Data\n",
    "\n",
    "\n",
    "**Tools Used:**\n",
    "\n",
    "- AWS\n",
    "    - Redshift\n",
    "- Python\n",
    "    - PySpark\n",
    "- SQL\n",
    "\n",
    "\n",
    "\n",
    "**I94 Immigration Data**\n",
    "\n",
    "This data comes from National Travel and Trourism Office(NTTO). The subject of the data is the immigrants going to the U.S. and the information is gives are where they come from, birth year, gender, visa type, etc.\n",
    "\n",
    "**Temperature Data**\n",
    "\n",
    "This data comes from Kaggle, and it shows the temperature in different cities around the world. It's recorded monthly, and the values are the average temperature of that month.\n",
    "\n",
    "**US Cities Demographics Data**\n",
    "\n",
    "This data comes from OpenSoft, and it shows the demographics of the cities in the U.S. including the population, median age, the state the city belongs to, etc."
   ]
  },
  {
   "cell_type": "code",
   "execution_count": 3,
   "metadata": {
    "editable": true
   },
   "outputs": [],
   "source": [
    "# Read in the data here\n",
    "# fname = '../../data/18-83510-I94-Data-2016/i94_apr16_sub.sas7bdat'\n",
    "# df = pd.read_sas(fname, 'sas7bdat', encoding=\"ISO-8859-1\")"
   ]
  },
  {
   "cell_type": "code",
   "execution_count": 4,
   "metadata": {
    "editable": true
   },
   "outputs": [],
   "source": [
    "# df.head()"
   ]
  },
  {
   "cell_type": "code",
   "execution_count": 5,
   "metadata": {
    "editable": true
   },
   "outputs": [],
   "source": [
    "# df.columns"
   ]
  },
  {
   "cell_type": "code",
   "execution_count": 6,
   "metadata": {
    "editable": true
   },
   "outputs": [],
   "source": [
    "spark = SparkSession.builder.\\\n",
    "config(\"spark.jars.repositories\", \"https://repos.spark-packages.org/\").\\\n",
    "config(\"spark.jars.packages\", \"saurfang:spark-sas7bdat:2.0.0-s_2.11\").\\\n",
    "enableHiveSupport().getOrCreate()\n",
    "\n",
    "df_immigration = spark.read.format('com.github.saurfang.sas.spark').load('../../data/18-83510-I94-Data-2016/i94_apr16_sub.sas7bdat')"
   ]
  },
  {
   "cell_type": "code",
   "execution_count": 7,
   "metadata": {
    "editable": true
   },
   "outputs": [
    {
     "name": "stdout",
     "output_type": "stream",
     "text": [
      "root\n",
      " |-- cicid: double (nullable = true)\n",
      " |-- i94yr: double (nullable = true)\n",
      " |-- i94mon: double (nullable = true)\n",
      " |-- i94cit: double (nullable = true)\n",
      " |-- i94res: double (nullable = true)\n",
      " |-- i94port: string (nullable = true)\n",
      " |-- arrdate: double (nullable = true)\n",
      " |-- i94mode: double (nullable = true)\n",
      " |-- i94addr: string (nullable = true)\n",
      " |-- depdate: double (nullable = true)\n",
      " |-- i94bir: double (nullable = true)\n",
      " |-- i94visa: double (nullable = true)\n",
      " |-- count: double (nullable = true)\n",
      " |-- dtadfile: string (nullable = true)\n",
      " |-- visapost: string (nullable = true)\n",
      " |-- occup: string (nullable = true)\n",
      " |-- entdepa: string (nullable = true)\n",
      " |-- entdepd: string (nullable = true)\n",
      " |-- entdepu: string (nullable = true)\n",
      " |-- matflag: string (nullable = true)\n",
      " |-- biryear: double (nullable = true)\n",
      " |-- dtaddto: string (nullable = true)\n",
      " |-- gender: string (nullable = true)\n",
      " |-- insnum: string (nullable = true)\n",
      " |-- airline: string (nullable = true)\n",
      " |-- admnum: double (nullable = true)\n",
      " |-- fltno: string (nullable = true)\n",
      " |-- visatype: string (nullable = true)\n",
      "\n"
     ]
    }
   ],
   "source": [
    "df_immigration.printSchema()"
   ]
  },
  {
   "cell_type": "code",
   "execution_count": 8,
   "metadata": {
    "editable": true
   },
   "outputs": [
    {
     "data": {
      "text/plain": [
       "3096313"
      ]
     },
     "execution_count": 8,
     "metadata": {},
     "output_type": "execute_result"
    }
   ],
   "source": [
    "df_immigration.count()"
   ]
  },
  {
   "cell_type": "markdown",
   "metadata": {
    "editable": true
   },
   "source": [
    "## US-CITIES-DEMOGRAPHICS"
   ]
  },
  {
   "cell_type": "code",
   "execution_count": 9,
   "metadata": {
    "editable": true
   },
   "outputs": [],
   "source": [
    "fname = './us-cities-demographics.csv'\n",
    "#df_demo = pd.read_csv(fname, delimiter=';')\n",
    "df_demo = spark.read.csv(fname, inferSchema=True, header=True, sep=';')"
   ]
  },
  {
   "cell_type": "code",
   "execution_count": 10,
   "metadata": {
    "editable": true
   },
   "outputs": [
    {
     "data": {
      "text/html": [
       "<div>\n",
       "<style scoped>\n",
       "    .dataframe tbody tr th:only-of-type {\n",
       "        vertical-align: middle;\n",
       "    }\n",
       "\n",
       "    .dataframe tbody tr th {\n",
       "        vertical-align: top;\n",
       "    }\n",
       "\n",
       "    .dataframe thead th {\n",
       "        text-align: right;\n",
       "    }\n",
       "</style>\n",
       "<table border=\"1\" class=\"dataframe\">\n",
       "  <thead>\n",
       "    <tr style=\"text-align: right;\">\n",
       "      <th></th>\n",
       "      <th>City</th>\n",
       "      <th>State</th>\n",
       "      <th>Median Age</th>\n",
       "      <th>Male Population</th>\n",
       "      <th>Female Population</th>\n",
       "      <th>Total Population</th>\n",
       "      <th>Number of Veterans</th>\n",
       "      <th>Foreign-born</th>\n",
       "      <th>Average Household Size</th>\n",
       "      <th>State Code</th>\n",
       "      <th>Race</th>\n",
       "      <th>Count</th>\n",
       "    </tr>\n",
       "  </thead>\n",
       "  <tbody>\n",
       "    <tr>\n",
       "      <th>0</th>\n",
       "      <td>Silver Spring</td>\n",
       "      <td>Maryland</td>\n",
       "      <td>33.8</td>\n",
       "      <td>40601</td>\n",
       "      <td>41862</td>\n",
       "      <td>82463</td>\n",
       "      <td>1562</td>\n",
       "      <td>30908</td>\n",
       "      <td>2.60</td>\n",
       "      <td>MD</td>\n",
       "      <td>Hispanic or Latino</td>\n",
       "      <td>25924</td>\n",
       "    </tr>\n",
       "    <tr>\n",
       "      <th>1</th>\n",
       "      <td>Quincy</td>\n",
       "      <td>Massachusetts</td>\n",
       "      <td>41.0</td>\n",
       "      <td>44129</td>\n",
       "      <td>49500</td>\n",
       "      <td>93629</td>\n",
       "      <td>4147</td>\n",
       "      <td>32935</td>\n",
       "      <td>2.39</td>\n",
       "      <td>MA</td>\n",
       "      <td>White</td>\n",
       "      <td>58723</td>\n",
       "    </tr>\n",
       "    <tr>\n",
       "      <th>2</th>\n",
       "      <td>Hoover</td>\n",
       "      <td>Alabama</td>\n",
       "      <td>38.5</td>\n",
       "      <td>38040</td>\n",
       "      <td>46799</td>\n",
       "      <td>84839</td>\n",
       "      <td>4819</td>\n",
       "      <td>8229</td>\n",
       "      <td>2.58</td>\n",
       "      <td>AL</td>\n",
       "      <td>Asian</td>\n",
       "      <td>4759</td>\n",
       "    </tr>\n",
       "    <tr>\n",
       "      <th>3</th>\n",
       "      <td>Rancho Cucamonga</td>\n",
       "      <td>California</td>\n",
       "      <td>34.5</td>\n",
       "      <td>88127</td>\n",
       "      <td>87105</td>\n",
       "      <td>175232</td>\n",
       "      <td>5821</td>\n",
       "      <td>33878</td>\n",
       "      <td>3.18</td>\n",
       "      <td>CA</td>\n",
       "      <td>Black or African-American</td>\n",
       "      <td>24437</td>\n",
       "    </tr>\n",
       "    <tr>\n",
       "      <th>4</th>\n",
       "      <td>Newark</td>\n",
       "      <td>New Jersey</td>\n",
       "      <td>34.6</td>\n",
       "      <td>138040</td>\n",
       "      <td>143873</td>\n",
       "      <td>281913</td>\n",
       "      <td>5829</td>\n",
       "      <td>86253</td>\n",
       "      <td>2.73</td>\n",
       "      <td>NJ</td>\n",
       "      <td>White</td>\n",
       "      <td>76402</td>\n",
       "    </tr>\n",
       "  </tbody>\n",
       "</table>\n",
       "</div>"
      ],
      "text/plain": [
       "               City          State  Median Age  Male Population  \\\n",
       "0     Silver Spring       Maryland        33.8            40601   \n",
       "1            Quincy  Massachusetts        41.0            44129   \n",
       "2            Hoover        Alabama        38.5            38040   \n",
       "3  Rancho Cucamonga     California        34.5            88127   \n",
       "4            Newark     New Jersey        34.6           138040   \n",
       "\n",
       "   Female Population  Total Population  Number of Veterans  Foreign-born  \\\n",
       "0              41862             82463                1562         30908   \n",
       "1              49500             93629                4147         32935   \n",
       "2              46799             84839                4819          8229   \n",
       "3              87105            175232                5821         33878   \n",
       "4             143873            281913                5829         86253   \n",
       "\n",
       "   Average Household Size State Code                       Race  Count  \n",
       "0                    2.60         MD         Hispanic or Latino  25924  \n",
       "1                    2.39         MA                      White  58723  \n",
       "2                    2.58         AL                      Asian   4759  \n",
       "3                    3.18         CA  Black or African-American  24437  \n",
       "4                    2.73         NJ                      White  76402  "
      ]
     },
     "execution_count": 10,
     "metadata": {},
     "output_type": "execute_result"
    }
   ],
   "source": [
    "df_demo.limit(5).toPandas()"
   ]
  },
  {
   "cell_type": "code",
   "execution_count": 11,
   "metadata": {
    "editable": true
   },
   "outputs": [
    {
     "name": "stdout",
     "output_type": "stream",
     "text": [
      "root\n",
      " |-- City: string (nullable = true)\n",
      " |-- State: string (nullable = true)\n",
      " |-- Median Age: double (nullable = true)\n",
      " |-- Male Population: integer (nullable = true)\n",
      " |-- Female Population: integer (nullable = true)\n",
      " |-- Total Population: integer (nullable = true)\n",
      " |-- Number of Veterans: integer (nullable = true)\n",
      " |-- Foreign-born: integer (nullable = true)\n",
      " |-- Average Household Size: double (nullable = true)\n",
      " |-- State Code: string (nullable = true)\n",
      " |-- Race: string (nullable = true)\n",
      " |-- Count: integer (nullable = true)\n",
      "\n"
     ]
    }
   ],
   "source": [
    "df_demo.printSchema()"
   ]
  },
  {
   "cell_type": "code",
   "execution_count": 12,
   "metadata": {
    "editable": true
   },
   "outputs": [
    {
     "data": {
      "text/plain": [
       "2891"
      ]
     },
     "execution_count": 12,
     "metadata": {},
     "output_type": "execute_result"
    }
   ],
   "source": [
    "df_demo.count()"
   ]
  },
  {
   "cell_type": "markdown",
   "metadata": {
    "editable": true
   },
   "source": [
    "## Temperature Data"
   ]
  },
  {
   "cell_type": "code",
   "execution_count": 13,
   "metadata": {
    "editable": true
   },
   "outputs": [],
   "source": [
    "fname = '../../data2/GlobalLandTemperaturesByCity.csv'\n",
    "# df_temp = pd.read_csv(fname)\n",
    "df_temp = spark.read.csv(fname, header=True, inferSchema=True)"
   ]
  },
  {
   "cell_type": "code",
   "execution_count": 14,
   "metadata": {
    "editable": true
   },
   "outputs": [
    {
     "name": "stdout",
     "output_type": "stream",
     "text": [
      "+-------------------+------------------+-----------------------------+-----+-------+--------+---------+\n",
      "|                 dt|AverageTemperature|AverageTemperatureUncertainty| City|Country|Latitude|Longitude|\n",
      "+-------------------+------------------+-----------------------------+-----+-------+--------+---------+\n",
      "|1743-11-01 00:00:00|             6.068|           1.7369999999999999|Århus|Denmark|  57.05N|   10.33E|\n",
      "|1743-12-01 00:00:00|              null|                         null|Århus|Denmark|  57.05N|   10.33E|\n",
      "|1744-01-01 00:00:00|              null|                         null|Århus|Denmark|  57.05N|   10.33E|\n",
      "|1744-02-01 00:00:00|              null|                         null|Århus|Denmark|  57.05N|   10.33E|\n",
      "|1744-03-01 00:00:00|              null|                         null|Århus|Denmark|  57.05N|   10.33E|\n",
      "+-------------------+------------------+-----------------------------+-----+-------+--------+---------+\n",
      "only showing top 5 rows\n",
      "\n"
     ]
    }
   ],
   "source": [
    "df_temp.show(n=5)"
   ]
  },
  {
   "cell_type": "code",
   "execution_count": 15,
   "metadata": {
    "editable": true
   },
   "outputs": [
    {
     "data": {
      "text/plain": [
       "8599212"
      ]
     },
     "execution_count": 15,
     "metadata": {},
     "output_type": "execute_result"
    }
   ],
   "source": [
    "df_temp.count()"
   ]
  },
  {
   "cell_type": "code",
   "execution_count": 16,
   "metadata": {
    "editable": true
   },
   "outputs": [
    {
     "name": "stdout",
     "output_type": "stream",
     "text": [
      "root\n",
      " |-- dt: timestamp (nullable = true)\n",
      " |-- AverageTemperature: double (nullable = true)\n",
      " |-- AverageTemperatureUncertainty: double (nullable = true)\n",
      " |-- City: string (nullable = true)\n",
      " |-- Country: string (nullable = true)\n",
      " |-- Latitude: string (nullable = true)\n",
      " |-- Longitude: string (nullable = true)\n",
      "\n"
     ]
    }
   ],
   "source": [
    "df_temp.printSchema()"
   ]
  },
  {
   "cell_type": "markdown",
   "metadata": {
    "editable": true
   },
   "source": [
    "### Step 2: Explore and Assess the Data"
   ]
  },
  {
   "cell_type": "markdown",
   "metadata": {
    "editable": true
   },
   "source": [
    "### Clean Immigration Dataset \n",
    "Identify data quality issues, like missing values, duplicate data, etc."
   ]
  },
  {
   "cell_type": "code",
   "execution_count": 17,
   "metadata": {
    "editable": true
   },
   "outputs": [],
   "source": [
    "# drop duplicate entries\n",
    "df_immigration = df_immigration.dropDuplicates(['cicid'])"
   ]
  },
  {
   "cell_type": "code",
   "execution_count": 18,
   "metadata": {
    "editable": true
   },
   "outputs": [
    {
     "data": {
      "text/plain": [
       "3096313"
      ]
     },
     "execution_count": 18,
     "metadata": {},
     "output_type": "execute_result"
    }
   ],
   "source": [
    "df_immigration.count()"
   ]
  },
  {
   "cell_type": "markdown",
   "metadata": {
    "editable": true
   },
   "source": [
    "- no duplicates"
   ]
  },
  {
   "cell_type": "code",
   "execution_count": 19,
   "metadata": {
    "editable": true
   },
   "outputs": [],
   "source": [
    "# drop rows with missing values\n",
    "df_immigration = df_immigration.dropna(how='all', subset=['cicid'])"
   ]
  },
  {
   "cell_type": "code",
   "execution_count": 20,
   "metadata": {
    "editable": true
   },
   "outputs": [
    {
     "data": {
      "text/plain": [
       "3096313"
      ]
     },
     "execution_count": 20,
     "metadata": {},
     "output_type": "execute_result"
    }
   ],
   "source": [
    "df_immigration.count()"
   ]
  },
  {
   "cell_type": "markdown",
   "metadata": {
    "editable": true
   },
   "source": [
    "- no missing id records"
   ]
  },
  {
   "cell_type": "markdown",
   "metadata": {
    "editable": true
   },
   "source": [
    "### Clean Demographic Dataset\n",
    "Identify data quality issues, like missing values, duplicate data, etc."
   ]
  },
  {
   "cell_type": "code",
   "execution_count": 21,
   "metadata": {
    "editable": true
   },
   "outputs": [],
   "source": [
    "df_demo = df_demo.dropna(subset=['Male Population','Female Population','Number of Veterans','Foreign-born','Average Household Size'])"
   ]
  },
  {
   "cell_type": "code",
   "execution_count": 22,
   "metadata": {
    "editable": true
   },
   "outputs": [
    {
     "data": {
      "text/plain": [
       "2875"
      ]
     },
     "execution_count": 22,
     "metadata": {},
     "output_type": "execute_result"
    }
   ],
   "source": [
    "df_demo.count()"
   ]
  },
  {
   "cell_type": "markdown",
   "metadata": {
    "editable": true
   },
   "source": [
    "- 16 records dropped with missing values"
   ]
  },
  {
   "cell_type": "code",
   "execution_count": 23,
   "metadata": {
    "editable": true
   },
   "outputs": [],
   "source": [
    "df_demo = df_demo.drop_duplicates(subset=['City', 'State', 'State Code', 'Race'])"
   ]
  },
  {
   "cell_type": "code",
   "execution_count": 24,
   "metadata": {
    "editable": true
   },
   "outputs": [
    {
     "data": {
      "text/plain": [
       "2875"
      ]
     },
     "execution_count": 24,
     "metadata": {},
     "output_type": "execute_result"
    }
   ],
   "source": [
    "df_demo.count()"
   ]
  },
  {
   "cell_type": "markdown",
   "metadata": {
    "editable": true
   },
   "source": [
    "- no duplicates"
   ]
  },
  {
   "cell_type": "markdown",
   "metadata": {
    "editable": true
   },
   "source": [
    "### Clean Temprature Dataset\n",
    "Identify data quality issues, like missing values, duplicate data, etc."
   ]
  },
  {
   "cell_type": "code",
   "execution_count": 25,
   "metadata": {
    "editable": true
   },
   "outputs": [],
   "source": [
    "# temperature data\n",
    "df_temp.dropna()\n",
    "df_temp = df_temp.dropna(subset=['AverageTemperature'])"
   ]
  },
  {
   "cell_type": "code",
   "execution_count": 26,
   "metadata": {
    "editable": true
   },
   "outputs": [
    {
     "data": {
      "text/plain": [
       "8235082"
      ]
     },
     "execution_count": 26,
     "metadata": {},
     "output_type": "execute_result"
    }
   ],
   "source": [
    "df_temp.count()"
   ]
  },
  {
   "cell_type": "markdown",
   "metadata": {
    "editable": true
   },
   "source": [
    "- 364,130 records dropped with missing average temprature"
   ]
  },
  {
   "cell_type": "code",
   "execution_count": 27,
   "metadata": {
    "editable": true
   },
   "outputs": [],
   "source": [
    "# drop duplicate rows\n",
    "df_temp = df_temp.drop_duplicates(subset=['dt', 'City', 'Country'])"
   ]
  },
  {
   "cell_type": "code",
   "execution_count": 28,
   "metadata": {
    "editable": true
   },
   "outputs": [
    {
     "data": {
      "text/plain": [
       "8190783"
      ]
     },
     "execution_count": 28,
     "metadata": {},
     "output_type": "execute_result"
    }
   ],
   "source": [
    "df_temp.count()"
   ]
  },
  {
   "cell_type": "markdown",
   "metadata": {
    "editable": true
   },
   "source": [
    "- 44,299 duplicate records dropped"
   ]
  },
  {
   "cell_type": "markdown",
   "metadata": {
    "editable": true
   },
   "source": [
    "### Step 3: Define the Data Model\n",
    "#### 3.1 Conceptual Data Model\n",
    "Map out the conceptual data model and explain why you chose that model\n",
    "\n"
   ]
  },
  {
   "cell_type": "markdown",
   "metadata": {
    "editable": true
   },
   "source": [
    "<img src=\"../capstone image.PNG\" />"
   ]
  },
  {
   "cell_type": "markdown",
   "metadata": {
    "editable": true
   },
   "source": [
    "- The immigration fact table is the heart of the data model. This table's data comes from the immigration data sets and contains keys that links to the dimension tables. The data dictionary of the immigration dataset contains detailed information on the data that makes up the fact table.\n",
    "- The visa table holds dimension data related to the immigration\n",
    "- The person table holds dimension data related to the person\n",
    "- The travel table holds dimension data related to the travel\n",
    "- The demo table holds demographic information about the state which the person is residing in\n",
    "    - This links to the immigration data by state code\n",
    "- The temp table holds average temprature for each country  \n",
    "    - This links to the immigration data by country code\n",
    "\n"
   ]
  },
  {
   "cell_type": "markdown",
   "metadata": {
    "editable": true
   },
   "source": [
    "#### 3.2 Mapping Out Data Pipelines\n",
    "List the steps necessary to pipeline the data into the chosen data model"
   ]
  },
  {
   "cell_type": "markdown",
   "metadata": {
    "editable": true
   },
   "source": [
    "### The pipeline steps are as follows:\n",
    "\n",
    "- Load the immigration dataset.\n",
    "- Load the demographic dataset.\n",
    "- Load the temprature dataset.\n",
    "- Clean the immigration dataset (drop duplicates / missing data).\n",
    "- Clean the demographic dataset (drop duplicates / missing data).\n",
    "- Clean the temprature dataset (drop duplicates / missing data).\n",
    "- Transform into fact and dimension tables.\n",
    "- Convert dates and rename columns.\n",
    "- Aggregate temprature data.\n",
    "- Merge on country code to temprature data to be able to join.\n",
    "- Parquet datasets into S3 bucket.\n"
   ]
  },
  {
   "cell_type": "markdown",
   "metadata": {
    "editable": true
   },
   "source": [
    "### Step 4: Run Pipelines to Model the Data \n",
    "#### 4.1 Create the data model"
   ]
  },
  {
   "cell_type": "code",
   "execution_count": 29,
   "metadata": {
    "editable": true
   },
   "outputs": [],
   "source": [
    "def transf_immigration(df):\n",
    "    # create a udf to convert arrival date in SAS format to datetime object\n",
    "    get_datetime = udf(lambda x: (dt.datetime(1960, 1, 1).date() + dt.timedelta(x)).isoformat() if x else None)\n",
    "    \n",
    "    # convert arrival date into datetime object\n",
    "    df = df.withColumn(\"arrdate\", get_datetime(df.arrdate))  \n",
    "    df = df.withColumn(\"depdate\", get_datetime(df.depdate))    \n",
    "    return df"
   ]
  },
  {
   "cell_type": "code",
   "execution_count": 30,
   "metadata": {
    "editable": true
   },
   "outputs": [
    {
     "data": {
      "text/html": [
       "<div>\n",
       "<style scoped>\n",
       "    .dataframe tbody tr th:only-of-type {\n",
       "        vertical-align: middle;\n",
       "    }\n",
       "\n",
       "    .dataframe tbody tr th {\n",
       "        vertical-align: top;\n",
       "    }\n",
       "\n",
       "    .dataframe thead th {\n",
       "        text-align: right;\n",
       "    }\n",
       "</style>\n",
       "<table border=\"1\" class=\"dataframe\">\n",
       "  <thead>\n",
       "    <tr style=\"text-align: right;\">\n",
       "      <th></th>\n",
       "      <th>record_id</th>\n",
       "      <th>year</th>\n",
       "      <th>month</th>\n",
       "      <th>port</th>\n",
       "      <th>arrdate</th>\n",
       "      <th>state_code</th>\n",
       "      <th>country_res_code</th>\n",
       "      <th>depdate</th>\n",
       "      <th>dtadfile</th>\n",
       "      <th>occup</th>\n",
       "      <th>entdepa</th>\n",
       "      <th>entdepd</th>\n",
       "      <th>entdepu</th>\n",
       "      <th>matflag</th>\n",
       "      <th>dtaddto</th>\n",
       "    </tr>\n",
       "  </thead>\n",
       "  <tbody>\n",
       "    <tr>\n",
       "      <th>0</th>\n",
       "      <td>299.0</td>\n",
       "      <td>2016.0</td>\n",
       "      <td>4.0</td>\n",
       "      <td>NYC</td>\n",
       "      <td>2016-04-01</td>\n",
       "      <td>NY</td>\n",
       "      <td>103.0</td>\n",
       "      <td>2016-04-06</td>\n",
       "      <td>20160401</td>\n",
       "      <td>None</td>\n",
       "      <td>O</td>\n",
       "      <td>O</td>\n",
       "      <td>None</td>\n",
       "      <td>M</td>\n",
       "      <td>06292016</td>\n",
       "    </tr>\n",
       "    <tr>\n",
       "      <th>1</th>\n",
       "      <td>305.0</td>\n",
       "      <td>2016.0</td>\n",
       "      <td>4.0</td>\n",
       "      <td>NYC</td>\n",
       "      <td>2016-04-01</td>\n",
       "      <td>NY</td>\n",
       "      <td>103.0</td>\n",
       "      <td>2016-04-11</td>\n",
       "      <td>20160401</td>\n",
       "      <td>None</td>\n",
       "      <td>O</td>\n",
       "      <td>O</td>\n",
       "      <td>None</td>\n",
       "      <td>M</td>\n",
       "      <td>06292016</td>\n",
       "    </tr>\n",
       "    <tr>\n",
       "      <th>2</th>\n",
       "      <td>496.0</td>\n",
       "      <td>2016.0</td>\n",
       "      <td>4.0</td>\n",
       "      <td>CHI</td>\n",
       "      <td>2016-04-01</td>\n",
       "      <td>IL</td>\n",
       "      <td>103.0</td>\n",
       "      <td>2016-04-04</td>\n",
       "      <td>20160401</td>\n",
       "      <td>None</td>\n",
       "      <td>O</td>\n",
       "      <td>O</td>\n",
       "      <td>None</td>\n",
       "      <td>M</td>\n",
       "      <td>06292016</td>\n",
       "    </tr>\n",
       "    <tr>\n",
       "      <th>3</th>\n",
       "      <td>558.0</td>\n",
       "      <td>2016.0</td>\n",
       "      <td>4.0</td>\n",
       "      <td>SFR</td>\n",
       "      <td>2016-04-01</td>\n",
       "      <td>CA</td>\n",
       "      <td>103.0</td>\n",
       "      <td>2016-04-03</td>\n",
       "      <td>20160401</td>\n",
       "      <td>None</td>\n",
       "      <td>G</td>\n",
       "      <td>O</td>\n",
       "      <td>None</td>\n",
       "      <td>M</td>\n",
       "      <td>06292016</td>\n",
       "    </tr>\n",
       "    <tr>\n",
       "      <th>4</th>\n",
       "      <td>596.0</td>\n",
       "      <td>2016.0</td>\n",
       "      <td>4.0</td>\n",
       "      <td>NAS</td>\n",
       "      <td>2016-04-01</td>\n",
       "      <td>FL</td>\n",
       "      <td>103.0</td>\n",
       "      <td>2016-04-03</td>\n",
       "      <td>20160401</td>\n",
       "      <td>None</td>\n",
       "      <td>G</td>\n",
       "      <td>N</td>\n",
       "      <td>None</td>\n",
       "      <td>M</td>\n",
       "      <td>06292016</td>\n",
       "    </tr>\n",
       "  </tbody>\n",
       "</table>\n",
       "</div>"
      ],
      "text/plain": [
       "   record_id    year  month port     arrdate state_code  country_res_code  \\\n",
       "0      299.0  2016.0    4.0  NYC  2016-04-01         NY             103.0   \n",
       "1      305.0  2016.0    4.0  NYC  2016-04-01         NY             103.0   \n",
       "2      496.0  2016.0    4.0  CHI  2016-04-01         IL             103.0   \n",
       "3      558.0  2016.0    4.0  SFR  2016-04-01         CA             103.0   \n",
       "4      596.0  2016.0    4.0  NAS  2016-04-01         FL             103.0   \n",
       "\n",
       "      depdate  dtadfile occup entdepa entdepd entdepu matflag   dtaddto  \n",
       "0  2016-04-06  20160401  None       O       O    None       M  06292016  \n",
       "1  2016-04-11  20160401  None       O       O    None       M  06292016  \n",
       "2  2016-04-04  20160401  None       O       O    None       M  06292016  \n",
       "3  2016-04-03  20160401  None       G       O    None       M  06292016  \n",
       "4  2016-04-03  20160401  None       G       N    None       M  06292016  "
      ]
     },
     "execution_count": 30,
     "metadata": {},
     "output_type": "execute_result"
    }
   ],
   "source": [
    "fact_immigration = df_immigration[['cicid', 'i94yr', 'i94mon', 'i94port', 'arrdate', 'i94addr', 'i94res', 'depdate','dtadfile','occup', 'entdepa', 'entdepd', 'entdepu','matflag','dtaddto' ]]\n",
    "#rename\n",
    "fact_immigration = fact_immigration.withColumnRenamed('cicid','record_id') \\\n",
    "            .withColumnRenamed('i94res', 'country_res_code') \\\n",
    "            .withColumnRenamed('i94addr', 'state_code') \\\n",
    "            .withColumnRenamed('i94port', 'port') \\\n",
    "            .withColumnRenamed('i94yr', 'year') \\\n",
    "            .withColumnRenamed('i94mon', 'month') \n",
    "\n",
    "#Convert Dates\n",
    "fact_immigration = transf_immigration(fact_immigration)\n",
    "\n",
    "fact_immigration.limit(5).toPandas()"
   ]
  },
  {
   "cell_type": "code",
   "execution_count": 31,
   "metadata": {
    "editable": true
   },
   "outputs": [
    {
     "data": {
      "text/html": [
       "<div>\n",
       "<style scoped>\n",
       "    .dataframe tbody tr th:only-of-type {\n",
       "        vertical-align: middle;\n",
       "    }\n",
       "\n",
       "    .dataframe tbody tr th {\n",
       "        vertical-align: top;\n",
       "    }\n",
       "\n",
       "    .dataframe thead th {\n",
       "        text-align: right;\n",
       "    }\n",
       "</style>\n",
       "<table border=\"1\" class=\"dataframe\">\n",
       "  <thead>\n",
       "    <tr style=\"text-align: right;\">\n",
       "      <th></th>\n",
       "      <th>record_id</th>\n",
       "      <th>airline</th>\n",
       "      <th>transport_mode</th>\n",
       "      <th>admission_num</th>\n",
       "      <th>fltno</th>\n",
       "    </tr>\n",
       "  </thead>\n",
       "  <tbody>\n",
       "    <tr>\n",
       "      <th>0</th>\n",
       "      <td>299.0</td>\n",
       "      <td>OS</td>\n",
       "      <td>1.0</td>\n",
       "      <td>5.542587e+10</td>\n",
       "      <td>00087</td>\n",
       "    </tr>\n",
       "    <tr>\n",
       "      <th>1</th>\n",
       "      <td>305.0</td>\n",
       "      <td>OS</td>\n",
       "      <td>1.0</td>\n",
       "      <td>5.542582e+10</td>\n",
       "      <td>00087</td>\n",
       "    </tr>\n",
       "    <tr>\n",
       "      <th>2</th>\n",
       "      <td>496.0</td>\n",
       "      <td>OS</td>\n",
       "      <td>1.0</td>\n",
       "      <td>5.542862e+10</td>\n",
       "      <td>00065</td>\n",
       "    </tr>\n",
       "    <tr>\n",
       "      <th>3</th>\n",
       "      <td>558.0</td>\n",
       "      <td>LH</td>\n",
       "      <td>1.0</td>\n",
       "      <td>5.543331e+10</td>\n",
       "      <td>00454</td>\n",
       "    </tr>\n",
       "    <tr>\n",
       "      <th>4</th>\n",
       "      <td>596.0</td>\n",
       "      <td>UP</td>\n",
       "      <td>1.0</td>\n",
       "      <td>5.540611e+10</td>\n",
       "      <td>00221</td>\n",
       "    </tr>\n",
       "  </tbody>\n",
       "</table>\n",
       "</div>"
      ],
      "text/plain": [
       "   record_id airline  transport_mode  admission_num  fltno\n",
       "0      299.0      OS             1.0   5.542587e+10  00087\n",
       "1      305.0      OS             1.0   5.542582e+10  00087\n",
       "2      496.0      OS             1.0   5.542862e+10  00065\n",
       "3      558.0      LH             1.0   5.543331e+10  00454\n",
       "4      596.0      UP             1.0   5.540611e+10  00221"
      ]
     },
     "execution_count": 31,
     "metadata": {},
     "output_type": "execute_result"
    }
   ],
   "source": [
    "dim_travel = df_immigration[['cicid', 'airline', 'i94mode', 'admnum', 'fltno',]]\n",
    "dim_travel = dim_travel.withColumnRenamed('cicid','record_id') \\\n",
    "            .withColumnRenamed('i94mode', 'transport_mode') \\\n",
    "            .withColumnRenamed('admnum', 'admission_num')\n",
    "\n",
    "\n",
    "dim_travel.limit(5).toPandas()"
   ]
  },
  {
   "cell_type": "code",
   "execution_count": 32,
   "metadata": {
    "editable": true
   },
   "outputs": [
    {
     "data": {
      "text/html": [
       "<div>\n",
       "<style scoped>\n",
       "    .dataframe tbody tr th:only-of-type {\n",
       "        vertical-align: middle;\n",
       "    }\n",
       "\n",
       "    .dataframe tbody tr th {\n",
       "        vertical-align: top;\n",
       "    }\n",
       "\n",
       "    .dataframe thead th {\n",
       "        text-align: right;\n",
       "    }\n",
       "</style>\n",
       "<table border=\"1\" class=\"dataframe\">\n",
       "  <thead>\n",
       "    <tr style=\"text-align: right;\">\n",
       "      <th></th>\n",
       "      <th>record_id</th>\n",
       "      <th>visa_cat</th>\n",
       "      <th>visapost</th>\n",
       "      <th>visatype</th>\n",
       "    </tr>\n",
       "  </thead>\n",
       "  <tbody>\n",
       "    <tr>\n",
       "      <th>0</th>\n",
       "      <td>299.0</td>\n",
       "      <td>2.0</td>\n",
       "      <td>None</td>\n",
       "      <td>WT</td>\n",
       "    </tr>\n",
       "    <tr>\n",
       "      <th>1</th>\n",
       "      <td>305.0</td>\n",
       "      <td>2.0</td>\n",
       "      <td>None</td>\n",
       "      <td>WT</td>\n",
       "    </tr>\n",
       "    <tr>\n",
       "      <th>2</th>\n",
       "      <td>496.0</td>\n",
       "      <td>1.0</td>\n",
       "      <td>None</td>\n",
       "      <td>WB</td>\n",
       "    </tr>\n",
       "    <tr>\n",
       "      <th>3</th>\n",
       "      <td>558.0</td>\n",
       "      <td>1.0</td>\n",
       "      <td>None</td>\n",
       "      <td>WB</td>\n",
       "    </tr>\n",
       "    <tr>\n",
       "      <th>4</th>\n",
       "      <td>596.0</td>\n",
       "      <td>2.0</td>\n",
       "      <td>None</td>\n",
       "      <td>WT</td>\n",
       "    </tr>\n",
       "  </tbody>\n",
       "</table>\n",
       "</div>"
      ],
      "text/plain": [
       "   record_id  visa_cat visapost visatype\n",
       "0      299.0       2.0     None       WT\n",
       "1      305.0       2.0     None       WT\n",
       "2      496.0       1.0     None       WB\n",
       "3      558.0       1.0     None       WB\n",
       "4      596.0       2.0     None       WT"
      ]
     },
     "execution_count": 32,
     "metadata": {},
     "output_type": "execute_result"
    }
   ],
   "source": [
    "dim_visa = df_immigration[['cicid', 'i94visa', 'visapost', 'visatype']]\n",
    "dim_visa = dim_visa.withColumnRenamed('cicid','record_id') \\\n",
    "                   .withColumnRenamed('i94visa', 'visa_cat') \n",
    "\n",
    "# drop data with no visa info\n",
    "dim_visa.dropna(subset=['visa_cat'])\n",
    "dim_visa.limit(5).toPandas()"
   ]
  },
  {
   "cell_type": "code",
   "execution_count": 33,
   "metadata": {
    "editable": true
   },
   "outputs": [
    {
     "data": {
      "text/html": [
       "<div>\n",
       "<style scoped>\n",
       "    .dataframe tbody tr th:only-of-type {\n",
       "        vertical-align: middle;\n",
       "    }\n",
       "\n",
       "    .dataframe tbody tr th {\n",
       "        vertical-align: top;\n",
       "    }\n",
       "\n",
       "    .dataframe thead th {\n",
       "        text-align: right;\n",
       "    }\n",
       "</style>\n",
       "<table border=\"1\" class=\"dataframe\">\n",
       "  <thead>\n",
       "    <tr style=\"text-align: right;\">\n",
       "      <th></th>\n",
       "      <th>record_id</th>\n",
       "      <th>birth_country</th>\n",
       "      <th>age</th>\n",
       "      <th>count</th>\n",
       "      <th>birth_year</th>\n",
       "      <th>gender</th>\n",
       "      <th>insnum</th>\n",
       "    </tr>\n",
       "  </thead>\n",
       "  <tbody>\n",
       "    <tr>\n",
       "      <th>0</th>\n",
       "      <td>299.0</td>\n",
       "      <td>103.0</td>\n",
       "      <td>54.0</td>\n",
       "      <td>1.0</td>\n",
       "      <td>1962.0</td>\n",
       "      <td>None</td>\n",
       "      <td>None</td>\n",
       "    </tr>\n",
       "    <tr>\n",
       "      <th>1</th>\n",
       "      <td>305.0</td>\n",
       "      <td>103.0</td>\n",
       "      <td>63.0</td>\n",
       "      <td>1.0</td>\n",
       "      <td>1953.0</td>\n",
       "      <td>None</td>\n",
       "      <td>None</td>\n",
       "    </tr>\n",
       "    <tr>\n",
       "      <th>2</th>\n",
       "      <td>496.0</td>\n",
       "      <td>103.0</td>\n",
       "      <td>64.0</td>\n",
       "      <td>1.0</td>\n",
       "      <td>1952.0</td>\n",
       "      <td>None</td>\n",
       "      <td>None</td>\n",
       "    </tr>\n",
       "    <tr>\n",
       "      <th>3</th>\n",
       "      <td>558.0</td>\n",
       "      <td>103.0</td>\n",
       "      <td>42.0</td>\n",
       "      <td>1.0</td>\n",
       "      <td>1974.0</td>\n",
       "      <td>M</td>\n",
       "      <td>None</td>\n",
       "    </tr>\n",
       "    <tr>\n",
       "      <th>4</th>\n",
       "      <td>596.0</td>\n",
       "      <td>103.0</td>\n",
       "      <td>24.0</td>\n",
       "      <td>1.0</td>\n",
       "      <td>1992.0</td>\n",
       "      <td>M</td>\n",
       "      <td>None</td>\n",
       "    </tr>\n",
       "  </tbody>\n",
       "</table>\n",
       "</div>"
      ],
      "text/plain": [
       "   record_id  birth_country   age  count  birth_year gender insnum\n",
       "0      299.0          103.0  54.0    1.0      1962.0   None   None\n",
       "1      305.0          103.0  63.0    1.0      1953.0   None   None\n",
       "2      496.0          103.0  64.0    1.0      1952.0   None   None\n",
       "3      558.0          103.0  42.0    1.0      1974.0      M   None\n",
       "4      596.0          103.0  24.0    1.0      1992.0      M   None"
      ]
     },
     "execution_count": 33,
     "metadata": {},
     "output_type": "execute_result"
    }
   ],
   "source": [
    "dim_personal = df_immigration[['cicid', 'i94cit',  'i94bir', 'count', 'biryear', 'gender', 'insnum']]\n",
    "dim_personal = dim_personal.withColumnRenamed('cicid','record_id') \\\n",
    "            .withColumnRenamed('i94cit', 'birth_country') \\\n",
    "            .withColumnRenamed('i94bir', 'age') \\\n",
    "            .withColumnRenamed('biryear', 'birth_year') \n",
    "\n",
    "dim_personal.limit(5).toPandas()"
   ]
  },
  {
   "cell_type": "code",
   "execution_count": 34,
   "metadata": {
    "editable": true
   },
   "outputs": [
    {
     "data": {
      "text/html": [
       "<div>\n",
       "<style scoped>\n",
       "    .dataframe tbody tr th:only-of-type {\n",
       "        vertical-align: middle;\n",
       "    }\n",
       "\n",
       "    .dataframe tbody tr th {\n",
       "        vertical-align: top;\n",
       "    }\n",
       "\n",
       "    .dataframe thead th {\n",
       "        text-align: right;\n",
       "    }\n",
       "</style>\n",
       "<table border=\"1\" class=\"dataframe\">\n",
       "  <thead>\n",
       "    <tr style=\"text-align: right;\">\n",
       "      <th></th>\n",
       "      <th>City</th>\n",
       "      <th>State</th>\n",
       "      <th>median_age</th>\n",
       "      <th>male_population</th>\n",
       "      <th>female_population</th>\n",
       "      <th>total_population</th>\n",
       "      <th>number_of_veterans</th>\n",
       "      <th>foreign_born</th>\n",
       "      <th>average_household_size</th>\n",
       "      <th>state_code</th>\n",
       "      <th>Race</th>\n",
       "    </tr>\n",
       "  </thead>\n",
       "  <tbody>\n",
       "    <tr>\n",
       "      <th>0</th>\n",
       "      <td>Quincy</td>\n",
       "      <td>Massachusetts</td>\n",
       "      <td>41.0</td>\n",
       "      <td>44129</td>\n",
       "      <td>49500</td>\n",
       "      <td>93629</td>\n",
       "      <td>4147</td>\n",
       "      <td>32935</td>\n",
       "      <td>2.39</td>\n",
       "      <td>MA</td>\n",
       "      <td>White</td>\n",
       "    </tr>\n",
       "    <tr>\n",
       "      <th>1</th>\n",
       "      <td>Wilmington</td>\n",
       "      <td>North Carolina</td>\n",
       "      <td>35.5</td>\n",
       "      <td>52346</td>\n",
       "      <td>63601</td>\n",
       "      <td>115947</td>\n",
       "      <td>5908</td>\n",
       "      <td>7401</td>\n",
       "      <td>2.24</td>\n",
       "      <td>NC</td>\n",
       "      <td>Asian</td>\n",
       "    </tr>\n",
       "    <tr>\n",
       "      <th>2</th>\n",
       "      <td>Tampa</td>\n",
       "      <td>Florida</td>\n",
       "      <td>35.3</td>\n",
       "      <td>175517</td>\n",
       "      <td>193511</td>\n",
       "      <td>369028</td>\n",
       "      <td>20636</td>\n",
       "      <td>58795</td>\n",
       "      <td>2.47</td>\n",
       "      <td>FL</td>\n",
       "      <td>Hispanic or Latino</td>\n",
       "    </tr>\n",
       "    <tr>\n",
       "      <th>3</th>\n",
       "      <td>Gastonia</td>\n",
       "      <td>North Carolina</td>\n",
       "      <td>36.9</td>\n",
       "      <td>35527</td>\n",
       "      <td>39023</td>\n",
       "      <td>74550</td>\n",
       "      <td>3537</td>\n",
       "      <td>5715</td>\n",
       "      <td>2.67</td>\n",
       "      <td>NC</td>\n",
       "      <td>Asian</td>\n",
       "    </tr>\n",
       "    <tr>\n",
       "      <th>4</th>\n",
       "      <td>Tyler</td>\n",
       "      <td>Texas</td>\n",
       "      <td>33.9</td>\n",
       "      <td>50422</td>\n",
       "      <td>53283</td>\n",
       "      <td>103705</td>\n",
       "      <td>4813</td>\n",
       "      <td>8225</td>\n",
       "      <td>2.59</td>\n",
       "      <td>TX</td>\n",
       "      <td>American Indian and Alaska Native</td>\n",
       "    </tr>\n",
       "  </tbody>\n",
       "</table>\n",
       "</div>"
      ],
      "text/plain": [
       "         City           State  median_age  male_population  female_population  \\\n",
       "0      Quincy   Massachusetts        41.0            44129              49500   \n",
       "1  Wilmington  North Carolina        35.5            52346              63601   \n",
       "2       Tampa         Florida        35.3           175517             193511   \n",
       "3    Gastonia  North Carolina        36.9            35527              39023   \n",
       "4       Tyler           Texas        33.9            50422              53283   \n",
       "\n",
       "   total_population  number_of_veterans  foreign_born  average_household_size  \\\n",
       "0             93629                4147         32935                    2.39   \n",
       "1            115947                5908          7401                    2.24   \n",
       "2            369028               20636         58795                    2.47   \n",
       "3             74550                3537          5715                    2.67   \n",
       "4            103705                4813          8225                    2.59   \n",
       "\n",
       "  state_code                               Race  \n",
       "0         MA                              White  \n",
       "1         NC                              Asian  \n",
       "2         FL                 Hispanic or Latino  \n",
       "3         NC                              Asian  \n",
       "4         TX  American Indian and Alaska Native  "
      ]
     },
     "execution_count": 34,
     "metadata": {},
     "output_type": "execute_result"
    }
   ],
   "source": [
    "dim_demographics = df_demo[['City', 'State', 'Median Age', 'Male Population', 'Female Population', 'Total Population', 'Number of Veterans', 'Foreign-born', 'Average Household Size', 'State Code', 'Race']]\n",
    "# dim_demographics.columns = ['city', 'state', 'median_age', 'male_population', 'female_population', 'total_population', 'num_veterans', 'foreign_born', 'average_household_size', 'state_code', 'race']\n",
    "\n",
    "dim_demographics = dim_demographics.withColumnRenamed('Median Age','median_age') \\\n",
    "            .withColumnRenamed('Male Population', 'male_population') \\\n",
    "            .withColumnRenamed('Female Population', 'female_population') \\\n",
    "            .withColumnRenamed('Total Population', 'total_population') \\\n",
    "            .withColumnRenamed('Number of Veterans', 'number_of_veterans') \\\n",
    "            .withColumnRenamed('Foreign-born', 'foreign_born') \\\n",
    "            .withColumnRenamed('Average Household Size', 'average_household_size') \\\n",
    "            .withColumnRenamed('State Code', 'state_code')\n",
    "\n",
    "dim_demographics.limit(5).toPandas()"
   ]
  },
  {
   "cell_type": "code",
   "execution_count": 35,
   "metadata": {
    "editable": true
   },
   "outputs": [
    {
     "data": {
      "text/html": [
       "<div>\n",
       "<style scoped>\n",
       "    .dataframe tbody tr th:only-of-type {\n",
       "        vertical-align: middle;\n",
       "    }\n",
       "\n",
       "    .dataframe tbody tr th {\n",
       "        vertical-align: top;\n",
       "    }\n",
       "\n",
       "    .dataframe thead th {\n",
       "        text-align: right;\n",
       "    }\n",
       "</style>\n",
       "<table border=\"1\" class=\"dataframe\">\n",
       "  <thead>\n",
       "    <tr style=\"text-align: right;\">\n",
       "      <th></th>\n",
       "      <th>dt</th>\n",
       "      <th>AverageTemperature</th>\n",
       "      <th>AverageTemperatureUncertainty</th>\n",
       "      <th>City</th>\n",
       "      <th>Country</th>\n",
       "    </tr>\n",
       "  </thead>\n",
       "  <tbody>\n",
       "    <tr>\n",
       "      <th>0</th>\n",
       "      <td>1760-01-01</td>\n",
       "      <td>-4.787</td>\n",
       "      <td>5.421</td>\n",
       "      <td>Århus</td>\n",
       "      <td>Denmark</td>\n",
       "    </tr>\n",
       "    <tr>\n",
       "      <th>1</th>\n",
       "      <td>1759-12-01</td>\n",
       "      <td>2.315</td>\n",
       "      <td>5.970</td>\n",
       "      <td>Çorlu</td>\n",
       "      <td>Turkey</td>\n",
       "    </tr>\n",
       "    <tr>\n",
       "      <th>2</th>\n",
       "      <td>1768-04-01</td>\n",
       "      <td>10.641</td>\n",
       "      <td>3.148</td>\n",
       "      <td>Çorlu</td>\n",
       "      <td>Turkey</td>\n",
       "    </tr>\n",
       "    <tr>\n",
       "      <th>3</th>\n",
       "      <td>1817-04-01</td>\n",
       "      <td>8.482</td>\n",
       "      <td>2.367</td>\n",
       "      <td>Çorlu</td>\n",
       "      <td>Turkey</td>\n",
       "    </tr>\n",
       "    <tr>\n",
       "      <th>4</th>\n",
       "      <td>1779-08-01</td>\n",
       "      <td>19.461</td>\n",
       "      <td>2.876</td>\n",
       "      <td>Çorum</td>\n",
       "      <td>Turkey</td>\n",
       "    </tr>\n",
       "  </tbody>\n",
       "</table>\n",
       "</div>"
      ],
      "text/plain": [
       "          dt  AverageTemperature  AverageTemperatureUncertainty   City  \\\n",
       "0 1760-01-01              -4.787                          5.421  Århus   \n",
       "1 1759-12-01               2.315                          5.970  Çorlu   \n",
       "2 1768-04-01              10.641                          3.148  Çorlu   \n",
       "3 1817-04-01               8.482                          2.367  Çorlu   \n",
       "4 1779-08-01              19.461                          2.876  Çorum   \n",
       "\n",
       "   Country  \n",
       "0  Denmark  \n",
       "1   Turkey  \n",
       "2   Turkey  \n",
       "3   Turkey  \n",
       "4   Turkey  "
      ]
     },
     "execution_count": 35,
     "metadata": {},
     "output_type": "execute_result"
    }
   ],
   "source": [
    "dim_temp = df_temp[['dt', 'AverageTemperature', 'AverageTemperatureUncertainty', 'City', 'Country']]\n",
    "dim_temp.limit(5).toPandas()"
   ]
  },
  {
   "cell_type": "code",
   "execution_count": 36,
   "metadata": {
    "editable": true
   },
   "outputs": [],
   "source": [
    "#create average for country\n",
    "dim_temp.createOrReplaceTempView(\"dim_temp_avg\")\n",
    "dim_agg_temp = spark.sql(\"\"\"\n",
    "                        SELECT \n",
    "                        AVG(AverageTemperature) AS Country_Avg_Temprature,\n",
    "                        Country\n",
    "                        FROM dim_temp_avg\n",
    "                        GROUP BY Country\n",
    "                        \"\"\")"
   ]
  },
  {
   "cell_type": "code",
   "execution_count": 37,
   "metadata": {
    "editable": true
   },
   "outputs": [
    {
     "data": {
      "text/html": [
       "<div>\n",
       "<style scoped>\n",
       "    .dataframe tbody tr th:only-of-type {\n",
       "        vertical-align: middle;\n",
       "    }\n",
       "\n",
       "    .dataframe tbody tr th {\n",
       "        vertical-align: top;\n",
       "    }\n",
       "\n",
       "    .dataframe thead th {\n",
       "        text-align: right;\n",
       "    }\n",
       "</style>\n",
       "<table border=\"1\" class=\"dataframe\">\n",
       "  <thead>\n",
       "    <tr style=\"text-align: right;\">\n",
       "      <th></th>\n",
       "      <th>Country_Avg_Temprature</th>\n",
       "      <th>Country</th>\n",
       "    </tr>\n",
       "  </thead>\n",
       "  <tbody>\n",
       "    <tr>\n",
       "      <th>0</th>\n",
       "      <td>27.189829</td>\n",
       "      <td>Chad</td>\n",
       "    </tr>\n",
       "    <tr>\n",
       "      <th>1</th>\n",
       "      <td>3.347268</td>\n",
       "      <td>Russia</td>\n",
       "    </tr>\n",
       "    <tr>\n",
       "      <th>2</th>\n",
       "      <td>22.784014</td>\n",
       "      <td>Paraguay</td>\n",
       "    </tr>\n",
       "    <tr>\n",
       "      <th>3</th>\n",
       "      <td>25.768408</td>\n",
       "      <td>Yemen</td>\n",
       "    </tr>\n",
       "    <tr>\n",
       "      <th>4</th>\n",
       "      <td>25.984177</td>\n",
       "      <td>Senegal</td>\n",
       "    </tr>\n",
       "  </tbody>\n",
       "</table>\n",
       "</div>"
      ],
      "text/plain": [
       "   Country_Avg_Temprature   Country\n",
       "0               27.189829      Chad\n",
       "1                3.347268    Russia\n",
       "2               22.784014  Paraguay\n",
       "3               25.768408     Yemen\n",
       "4               25.984177   Senegal"
      ]
     },
     "execution_count": 37,
     "metadata": {},
     "output_type": "execute_result"
    }
   ],
   "source": [
    "from pyspark.sql.functions import trim\n",
    "\n",
    "dim_agg_temp = dim_agg_temp.withColumn(\"Country\", trim(col(\"Country\")))\n",
    "dim_agg_temp.limit(5).toPandas()"
   ]
  },
  {
   "cell_type": "code",
   "execution_count": 38,
   "metadata": {
    "editable": true
   },
   "outputs": [],
   "source": [
    "#need to get country code added onto tables\n",
    "with open(\"I94_SAS_Labels_Descriptions.SAS\") as f:\n",
    "    contents = f.readlines()"
   ]
  },
  {
   "cell_type": "code",
   "execution_count": 39,
   "metadata": {
    "editable": true
   },
   "outputs": [],
   "source": [
    "countries = contents[9:298]\n",
    "country = [x.strip().split('=') for x in countries]\n",
    "country_code = [x[0].replace(\"'\",\"\") for x in country]\n",
    "country_name = [x[1].replace(\"'\",\"\") for x in country]\n",
    "df_country = pd.DataFrame({'country_code':country_code, 'country_name':country_name})\n",
    "df_country[\"country_name\"]= df_country[\"country_name\"].str.title()\n",
    "\n",
    "sparkcountryDF=spark.createDataFrame(df_country) "
   ]
  },
  {
   "cell_type": "code",
   "execution_count": 40,
   "metadata": {
    "editable": true
   },
   "outputs": [
    {
     "data": {
      "text/html": [
       "<div>\n",
       "<style scoped>\n",
       "    .dataframe tbody tr th:only-of-type {\n",
       "        vertical-align: middle;\n",
       "    }\n",
       "\n",
       "    .dataframe tbody tr th {\n",
       "        vertical-align: top;\n",
       "    }\n",
       "\n",
       "    .dataframe thead th {\n",
       "        text-align: right;\n",
       "    }\n",
       "</style>\n",
       "<table border=\"1\" class=\"dataframe\">\n",
       "  <thead>\n",
       "    <tr style=\"text-align: right;\">\n",
       "      <th></th>\n",
       "      <th>country_code</th>\n",
       "      <th>country_name</th>\n",
       "    </tr>\n",
       "  </thead>\n",
       "  <tbody>\n",
       "    <tr>\n",
       "      <th>0</th>\n",
       "      <td>582</td>\n",
       "      <td>Mexico Air Sea, And Not Reported (I-94, No Lan...</td>\n",
       "    </tr>\n",
       "    <tr>\n",
       "      <th>1</th>\n",
       "      <td>236</td>\n",
       "      <td>Afghanistan</td>\n",
       "    </tr>\n",
       "    <tr>\n",
       "      <th>2</th>\n",
       "      <td>101</td>\n",
       "      <td>Albania</td>\n",
       "    </tr>\n",
       "    <tr>\n",
       "      <th>3</th>\n",
       "      <td>316</td>\n",
       "      <td>Algeria</td>\n",
       "    </tr>\n",
       "    <tr>\n",
       "      <th>4</th>\n",
       "      <td>102</td>\n",
       "      <td>Andorra</td>\n",
       "    </tr>\n",
       "  </tbody>\n",
       "</table>\n",
       "</div>"
      ],
      "text/plain": [
       "  country_code                                       country_name\n",
       "0         582   Mexico Air Sea, And Not Reported (I-94, No Lan...\n",
       "1         236                                         Afghanistan\n",
       "2         101                                             Albania\n",
       "3         316                                             Algeria\n",
       "4         102                                             Andorra"
      ]
     },
     "execution_count": 40,
     "metadata": {},
     "output_type": "execute_result"
    }
   ],
   "source": [
    "sparkcountryDF = sparkcountryDF.withColumn(\"country_name\", trim(col(\"country_name\")))\n",
    "sparkcountryDF.limit(5).toPandas()"
   ]
  },
  {
   "cell_type": "code",
   "execution_count": 41,
   "metadata": {
    "editable": true
   },
   "outputs": [],
   "source": [
    "#create average for country\n",
    "dim_agg_temp.createOrReplaceTempView(\"aggtem\")\n",
    "sparkcountryDF.createOrReplaceTempView(\"sparkcountry\")\n",
    "dim_agg_temp = spark.sql(\"\"\"\n",
    "                        SELECT\n",
    "                        aggtem.Country_Avg_Temprature,\n",
    "                        aggtem.Country,\n",
    "                        sparkcountry.country_code,\n",
    "                        sparkcountry.country_name\n",
    "                        FROM aggtem \n",
    "                        JOIN sparkcountry \n",
    "                        on aggtem.Country = sparkcountry.country_name\n",
    "                        \"\"\")"
   ]
  },
  {
   "cell_type": "code",
   "execution_count": 42,
   "metadata": {
    "editable": true
   },
   "outputs": [
    {
     "data": {
      "text/html": [
       "<div>\n",
       "<style scoped>\n",
       "    .dataframe tbody tr th:only-of-type {\n",
       "        vertical-align: middle;\n",
       "    }\n",
       "\n",
       "    .dataframe tbody tr th {\n",
       "        vertical-align: top;\n",
       "    }\n",
       "\n",
       "    .dataframe thead th {\n",
       "        text-align: right;\n",
       "    }\n",
       "</style>\n",
       "<table border=\"1\" class=\"dataframe\">\n",
       "  <thead>\n",
       "    <tr style=\"text-align: right;\">\n",
       "      <th></th>\n",
       "      <th>Country_Avg_Temprature</th>\n",
       "      <th>Country</th>\n",
       "      <th>country_code</th>\n",
       "      <th>country_name</th>\n",
       "    </tr>\n",
       "  </thead>\n",
       "  <tbody>\n",
       "    <tr>\n",
       "      <th>0</th>\n",
       "      <td>27.189829</td>\n",
       "      <td>Chad</td>\n",
       "      <td>384</td>\n",
       "      <td>Chad</td>\n",
       "    </tr>\n",
       "    <tr>\n",
       "      <th>1</th>\n",
       "      <td>22.784014</td>\n",
       "      <td>Paraguay</td>\n",
       "      <td>693</td>\n",
       "      <td>Paraguay</td>\n",
       "    </tr>\n",
       "    <tr>\n",
       "      <th>2</th>\n",
       "      <td>3.347268</td>\n",
       "      <td>Russia</td>\n",
       "      <td>158</td>\n",
       "      <td>Russia</td>\n",
       "    </tr>\n",
       "    <tr>\n",
       "      <th>3</th>\n",
       "      <td>25.768408</td>\n",
       "      <td>Yemen</td>\n",
       "      <td>216</td>\n",
       "      <td>Yemen</td>\n",
       "    </tr>\n",
       "    <tr>\n",
       "      <th>4</th>\n",
       "      <td>25.984177</td>\n",
       "      <td>Senegal</td>\n",
       "      <td>391</td>\n",
       "      <td>Senegal</td>\n",
       "    </tr>\n",
       "  </tbody>\n",
       "</table>\n",
       "</div>"
      ],
      "text/plain": [
       "   Country_Avg_Temprature   Country country_code country_name\n",
       "0               27.189829      Chad         384          Chad\n",
       "1               22.784014  Paraguay         693      Paraguay\n",
       "2                3.347268    Russia         158        Russia\n",
       "3               25.768408     Yemen         216         Yemen\n",
       "4               25.984177   Senegal         391       Senegal"
      ]
     },
     "execution_count": 42,
     "metadata": {},
     "output_type": "execute_result"
    }
   ],
   "source": [
    "dim_agg_temp.limit(5).toPandas()"
   ]
  },
  {
   "cell_type": "code",
   "execution_count": 43,
   "metadata": {
    "editable": true
   },
   "outputs": [],
   "source": [
    "dim_agg_temp = dim_agg_temp[['Country', 'country_code', 'Country_Avg_Temprature']]"
   ]
  },
  {
   "cell_type": "code",
   "execution_count": 44,
   "metadata": {
    "editable": true
   },
   "outputs": [
    {
     "data": {
      "text/html": [
       "<div>\n",
       "<style scoped>\n",
       "    .dataframe tbody tr th:only-of-type {\n",
       "        vertical-align: middle;\n",
       "    }\n",
       "\n",
       "    .dataframe tbody tr th {\n",
       "        vertical-align: top;\n",
       "    }\n",
       "\n",
       "    .dataframe thead th {\n",
       "        text-align: right;\n",
       "    }\n",
       "</style>\n",
       "<table border=\"1\" class=\"dataframe\">\n",
       "  <thead>\n",
       "    <tr style=\"text-align: right;\">\n",
       "      <th></th>\n",
       "      <th>Country</th>\n",
       "      <th>country_code</th>\n",
       "      <th>Country_Avg_Temprature</th>\n",
       "    </tr>\n",
       "  </thead>\n",
       "  <tbody>\n",
       "    <tr>\n",
       "      <th>0</th>\n",
       "      <td>Chad</td>\n",
       "      <td>384</td>\n",
       "      <td>27.189829</td>\n",
       "    </tr>\n",
       "    <tr>\n",
       "      <th>1</th>\n",
       "      <td>Paraguay</td>\n",
       "      <td>693</td>\n",
       "      <td>22.784014</td>\n",
       "    </tr>\n",
       "    <tr>\n",
       "      <th>2</th>\n",
       "      <td>Russia</td>\n",
       "      <td>158</td>\n",
       "      <td>3.347268</td>\n",
       "    </tr>\n",
       "    <tr>\n",
       "      <th>3</th>\n",
       "      <td>Yemen</td>\n",
       "      <td>216</td>\n",
       "      <td>25.768408</td>\n",
       "    </tr>\n",
       "    <tr>\n",
       "      <th>4</th>\n",
       "      <td>Senegal</td>\n",
       "      <td>391</td>\n",
       "      <td>25.984177</td>\n",
       "    </tr>\n",
       "  </tbody>\n",
       "</table>\n",
       "</div>"
      ],
      "text/plain": [
       "    Country country_code  Country_Avg_Temprature\n",
       "0      Chad         384                27.189829\n",
       "1  Paraguay         693                22.784014\n",
       "2    Russia         158                 3.347268\n",
       "3     Yemen         216                25.768408\n",
       "4   Senegal         391                25.984177"
      ]
     },
     "execution_count": 44,
     "metadata": {},
     "output_type": "execute_result"
    }
   ],
   "source": [
    "dim_agg_temp.limit(5).toPandas()"
   ]
  },
  {
   "cell_type": "code",
   "execution_count": 45,
   "metadata": {
    "editable": true
   },
   "outputs": [],
   "source": [
    "# Intended to write parquet to s3 bucket but cannot do due to not having any more credit therefore done to local tables folder below\n",
    "\n",
    "# output_data = \"s3a://1stawbucket/\"\n",
    "# # write users table to parquet files\n",
    "# fact_immigration.write.mode('overwrite').partitionBy(\"year\").parquet(output_data+'fact_immigration')\n",
    "# dim_travel.write.mode('overwrite').partitionBy(\"airline\").parquet(output_data+'dim_travel') \n",
    "# dim_visa.write.mode('overwrite').partitionBy(\"visa_cat\").parquet(output_data+'dim_visa') \n",
    "# dim_personal.write.mode('overwrite').partitionBy(\"birth_year\").parquet(output_data+'dim_personal') \n",
    "# dim_demographics.write.mode('overwrite').parquet(output_data+'dim_demographics') \n",
    "# dim_agg_temp.write.mode('overwrite').parquet(output_data+'dim_agg_temp') "
   ]
  },
  {
   "cell_type": "code",
   "execution_count": 46,
   "metadata": {
    "editable": true
   },
   "outputs": [],
   "source": [
    "#Parquet data function\n",
    "def parquetfiles(df, partition, dfstr):\n",
    "    output_data = \"tables/\"\n",
    "    \n",
    "    if partition == None:\n",
    "        df.write.mode('overwrite').parquet(output_data+dfstr)\n",
    "    else:\n",
    "        df.write.mode('overwrite').partitionBy(partition).parquet(output_data+dfstr)"
   ]
  },
  {
   "cell_type": "code",
   "execution_count": 47,
   "metadata": {
    "editable": true
   },
   "outputs": [],
   "source": [
    "parquetfiles(fact_immigration,\"year\",'fact_immigration')\n",
    "parquetfiles(dim_travel,\"airline\",'dim_travel')\n",
    "parquetfiles(dim_visa,\"visa_cat\",'dim_visa')\n",
    "parquetfiles(dim_personal,\"birth_year\",'dim_personal')\n",
    "parquetfiles(dim_agg_temp,None,'dim_agg_temp')\n",
    "parquetfiles(dim_demographics,None,'dim_demographics')"
   ]
  },
  {
   "cell_type": "markdown",
   "metadata": {
    "editable": true
   },
   "source": [
    "#### 4.2 Data Quality Checks\n",
    "Explain the data quality checks you'll perform to ensure the pipeline ran as expected. These could include:\n",
    " * Integrity constraints on the relational database (e.g., unique key, data type, etc.)\n",
    " * Unit tests for the scripts to ensure they are doing the right thing\n",
    " * Source/Count checks to ensure completeness\n",
    " \n",
    "Run Quality Checks"
   ]
  },
  {
   "cell_type": "code",
   "execution_count": 48,
   "metadata": {
    "editable": true
   },
   "outputs": [],
   "source": [
    "def quality_checks(df, table_name):\n",
    "    \"\"\"\n",
    "    Count checks on fact and dimension table to ensure completeness of data and there are no empty datasets\n",
    "    \"\"\"\n",
    "    total_count = df.count()\n",
    "\n",
    "    if total_count == 0:\n",
    "        print(f\"Data quality check failed : {table_name} with zero records\")\n",
    "    else:\n",
    "        print(f\"Data quality check passed : {table_name} with {total_count:,} records.\")\n",
    "    return 0"
   ]
  },
  {
   "cell_type": "code",
   "execution_count": 49,
   "metadata": {
    "editable": true
   },
   "outputs": [
    {
     "name": "stdout",
     "output_type": "stream",
     "text": [
      "Data quality check passed : immigration_fact with 3,096,313 records.\n",
      "Data quality check passed : dim_travel with 3,096,313 records.\n",
      "Data quality check passed : dim_personal with 3,096,313 records.\n",
      "Data quality check passed : dim_visa with 3,096,313 records.\n",
      "Data quality check passed : dim_demographics with 2,875 records.\n",
      "Data quality check passed : dim_agg_temp with 149 records.\n"
     ]
    }
   ],
   "source": [
    "# Perform quality checks here\n",
    "table_dfs = {\n",
    "    'immigration_fact': fact_immigration,\n",
    "    'dim_travel': dim_travel,\n",
    "    'dim_personal': dim_personal,\n",
    "    'dim_visa': dim_visa,   \n",
    "    'dim_demographics': dim_demographics,\n",
    "    'dim_agg_temp': dim_agg_temp\n",
    "}\n",
    "for table_name, table_df in table_dfs.items():\n",
    "    # check number of records for all tables\n",
    "    quality_checks(table_df, table_name)\n"
   ]
  },
  {
   "cell_type": "code",
   "execution_count": 50,
   "metadata": {
    "editable": true
   },
   "outputs": [],
   "source": [
    "def dupcheck(df,tname,pk):\n",
    "    \"\"\"\n",
    "    Count checks on fact and dimension table to ensure completeness of data,\n",
    "    generally the count distinct should be the same as the number of records in the table but it isn't always the case.\n",
    "    \"\"\"\n",
    "    total_count = df.select(countDistinct(pk))\n",
    "    print(tname)\n",
    "    total_count.show()"
   ]
  },
  {
   "cell_type": "code",
   "execution_count": 51,
   "metadata": {
    "editable": true
   },
   "outputs": [
    {
     "name": "stdout",
     "output_type": "stream",
     "text": [
      "immigration_fact\n",
      "+-------------------------+\n",
      "|count(DISTINCT record_id)|\n",
      "+-------------------------+\n",
      "|                  3096313|\n",
      "+-------------------------+\n",
      "\n",
      "dim_travel\n",
      "+-------------------------+\n",
      "|count(DISTINCT record_id)|\n",
      "+-------------------------+\n",
      "|                  3096313|\n",
      "+-------------------------+\n",
      "\n",
      "dim_personal\n",
      "+-------------------------+\n",
      "|count(DISTINCT record_id)|\n",
      "+-------------------------+\n",
      "|                  3096313|\n",
      "+-------------------------+\n",
      "\n",
      "dim_visa\n",
      "+-------------------------+\n",
      "|count(DISTINCT record_id)|\n",
      "+-------------------------+\n",
      "|                  3096313|\n",
      "+-------------------------+\n",
      "\n",
      "dim_demographics\n",
      "+--------------------+\n",
      "|count(DISTINCT city)|\n",
      "+--------------------+\n",
      "|                 559|\n",
      "+--------------------+\n",
      "\n",
      "dim_agg_temp\n",
      "+----------------------------+\n",
      "|count(DISTINCT country_code)|\n",
      "+----------------------------+\n",
      "|                         149|\n",
      "+----------------------------+\n",
      "\n"
     ]
    }
   ],
   "source": [
    "# Perform quality checks here\n",
    "dupcheck(fact_immigration,'immigration_fact',\"record_id\")\n",
    "dupcheck(dim_travel,'dim_travel' ,\"record_id\")\n",
    "dupcheck(dim_personal,'dim_personal',\"record_id\")\n",
    "dupcheck(dim_visa,'dim_visa',\"record_id\")\n",
    "dupcheck(dim_demographics,'dim_demographics',\"city\")\n",
    "dupcheck(dim_agg_temp,'dim_agg_temp',\"country_code\")"
   ]
  },
  {
   "cell_type": "markdown",
   "metadata": {
    "editable": true
   },
   "source": [
    "### ETL Result Queries\n",
    "Once the data is processed queries such as: \n",
    "- data on immigrates and demographic information about the state immigrated to.\n",
    "- data on immigrants, average temprature by country of residence and demographic information about the state immigrated to.\n",
    "- data on immigrants, average temprature by country of residence and demographic information about the state immigrated to where visa type is WB"
   ]
  },
  {
   "cell_type": "code",
   "execution_count": 52,
   "metadata": {
    "editable": true
   },
   "outputs": [
    {
     "data": {
      "text/html": [
       "<div>\n",
       "<style scoped>\n",
       "    .dataframe tbody tr th:only-of-type {\n",
       "        vertical-align: middle;\n",
       "    }\n",
       "\n",
       "    .dataframe tbody tr th {\n",
       "        vertical-align: top;\n",
       "    }\n",
       "\n",
       "    .dataframe thead th {\n",
       "        text-align: right;\n",
       "    }\n",
       "</style>\n",
       "<table border=\"1\" class=\"dataframe\">\n",
       "  <thead>\n",
       "    <tr style=\"text-align: right;\">\n",
       "      <th></th>\n",
       "      <th>median_age</th>\n",
       "      <th>average_household_size</th>\n",
       "      <th>male_population</th>\n",
       "      <th>female_population</th>\n",
       "      <th>age</th>\n",
       "      <th>state_code</th>\n",
       "      <th>State</th>\n",
       "    </tr>\n",
       "  </thead>\n",
       "  <tbody>\n",
       "    <tr>\n",
       "      <th>0</th>\n",
       "      <td>36.0</td>\n",
       "      <td>2.68</td>\n",
       "      <td>4081698</td>\n",
       "      <td>4468707</td>\n",
       "      <td>54.0</td>\n",
       "      <td>NY</td>\n",
       "      <td>New York</td>\n",
       "    </tr>\n",
       "    <tr>\n",
       "      <th>1</th>\n",
       "      <td>38.5</td>\n",
       "      <td>2.85</td>\n",
       "      <td>31876</td>\n",
       "      <td>36745</td>\n",
       "      <td>54.0</td>\n",
       "      <td>NY</td>\n",
       "      <td>New York</td>\n",
       "    </tr>\n",
       "    <tr>\n",
       "      <th>2</th>\n",
       "      <td>33.1</td>\n",
       "      <td>2.27</td>\n",
       "      <td>124537</td>\n",
       "      <td>133529</td>\n",
       "      <td>54.0</td>\n",
       "      <td>NY</td>\n",
       "      <td>New York</td>\n",
       "    </tr>\n",
       "    <tr>\n",
       "      <th>3</th>\n",
       "      <td>38.0</td>\n",
       "      <td>2.80</td>\n",
       "      <td>96580</td>\n",
       "      <td>104538</td>\n",
       "      <td>54.0</td>\n",
       "      <td>NY</td>\n",
       "      <td>New York</td>\n",
       "    </tr>\n",
       "    <tr>\n",
       "      <th>4</th>\n",
       "      <td>33.1</td>\n",
       "      <td>2.27</td>\n",
       "      <td>124537</td>\n",
       "      <td>133529</td>\n",
       "      <td>54.0</td>\n",
       "      <td>NY</td>\n",
       "      <td>New York</td>\n",
       "    </tr>\n",
       "  </tbody>\n",
       "</table>\n",
       "</div>"
      ],
      "text/plain": [
       "   median_age  average_household_size  male_population  female_population  \\\n",
       "0        36.0                    2.68          4081698            4468707   \n",
       "1        38.5                    2.85            31876              36745   \n",
       "2        33.1                    2.27           124537             133529   \n",
       "3        38.0                    2.80            96580             104538   \n",
       "4        33.1                    2.27           124537             133529   \n",
       "\n",
       "    age state_code     State  \n",
       "0  54.0         NY  New York  \n",
       "1  54.0         NY  New York  \n",
       "2  54.0         NY  New York  \n",
       "3  54.0         NY  New York  \n",
       "4  54.0         NY  New York  "
      ]
     },
     "execution_count": 52,
     "metadata": {},
     "output_type": "execute_result"
    }
   ],
   "source": [
    "dim_demographics.createOrReplaceTempView(\"dem\")\n",
    "dim_personal.createOrReplaceTempView(\"person\")\n",
    "fact_immigration.createOrReplaceTempView(\"fact\")\n",
    "Result1 = spark.sql(\"\"\"\n",
    "                SELECT d.median_age,\n",
    "                d.average_household_size,\n",
    "                d.male_population,\n",
    "                d.female_population,\n",
    "                dp.age,\n",
    "                f.state_code,\n",
    "                d.State\n",
    "                FROM fact as f\n",
    "                JOIN dem as d ON (f.state_code = d.state_code)\n",
    "                JOIN person as dp ON (f.record_id = dp.record_id)               \n",
    "                    \"\"\")\n",
    "Result1.limit(5).toPandas()"
   ]
  },
  {
   "cell_type": "code",
   "execution_count": 53,
   "metadata": {
    "editable": true
   },
   "outputs": [
    {
     "data": {
      "text/html": [
       "<div>\n",
       "<style scoped>\n",
       "    .dataframe tbody tr th:only-of-type {\n",
       "        vertical-align: middle;\n",
       "    }\n",
       "\n",
       "    .dataframe tbody tr th {\n",
       "        vertical-align: top;\n",
       "    }\n",
       "\n",
       "    .dataframe thead th {\n",
       "        text-align: right;\n",
       "    }\n",
       "</style>\n",
       "<table border=\"1\" class=\"dataframe\">\n",
       "  <thead>\n",
       "    <tr style=\"text-align: right;\">\n",
       "      <th></th>\n",
       "      <th>median_age</th>\n",
       "      <th>average_household_size</th>\n",
       "      <th>foreign_born</th>\n",
       "      <th>Country_Avg_Temprature</th>\n",
       "      <th>Country</th>\n",
       "      <th>state_code</th>\n",
       "      <th>State</th>\n",
       "    </tr>\n",
       "  </thead>\n",
       "  <tbody>\n",
       "    <tr>\n",
       "      <th>0</th>\n",
       "      <td>32.6</td>\n",
       "      <td>2.59</td>\n",
       "      <td>326825</td>\n",
       "      <td>-3.365485</td>\n",
       "      <td>Mongolia</td>\n",
       "      <td>TX</td>\n",
       "      <td>Texas</td>\n",
       "    </tr>\n",
       "    <tr>\n",
       "      <th>1</th>\n",
       "      <td>38.2</td>\n",
       "      <td>2.72</td>\n",
       "      <td>2829</td>\n",
       "      <td>-3.365485</td>\n",
       "      <td>Mongolia</td>\n",
       "      <td>VA</td>\n",
       "      <td>Virginia</td>\n",
       "    </tr>\n",
       "    <tr>\n",
       "      <th>2</th>\n",
       "      <td>32.7</td>\n",
       "      <td>2.50</td>\n",
       "      <td>181686</td>\n",
       "      <td>-3.365485</td>\n",
       "      <td>Mongolia</td>\n",
       "      <td>TX</td>\n",
       "      <td>Texas</td>\n",
       "    </tr>\n",
       "    <tr>\n",
       "      <th>3</th>\n",
       "      <td>30.2</td>\n",
       "      <td>2.51</td>\n",
       "      <td>16702</td>\n",
       "      <td>-3.365485</td>\n",
       "      <td>Mongolia</td>\n",
       "      <td>VA</td>\n",
       "      <td>Virginia</td>\n",
       "    </tr>\n",
       "    <tr>\n",
       "      <th>4</th>\n",
       "      <td>37.2</td>\n",
       "      <td>3.03</td>\n",
       "      <td>18556</td>\n",
       "      <td>-3.365485</td>\n",
       "      <td>Mongolia</td>\n",
       "      <td>TX</td>\n",
       "      <td>Texas</td>\n",
       "    </tr>\n",
       "  </tbody>\n",
       "</table>\n",
       "</div>"
      ],
      "text/plain": [
       "   median_age  average_household_size  foreign_born  Country_Avg_Temprature  \\\n",
       "0        32.6                    2.59        326825               -3.365485   \n",
       "1        38.2                    2.72          2829               -3.365485   \n",
       "2        32.7                    2.50        181686               -3.365485   \n",
       "3        30.2                    2.51         16702               -3.365485   \n",
       "4        37.2                    3.03         18556               -3.365485   \n",
       "\n",
       "    Country state_code     State  \n",
       "0  Mongolia         TX     Texas  \n",
       "1  Mongolia         VA  Virginia  \n",
       "2  Mongolia         TX     Texas  \n",
       "3  Mongolia         VA  Virginia  \n",
       "4  Mongolia         TX     Texas  "
      ]
     },
     "execution_count": 53,
     "metadata": {},
     "output_type": "execute_result"
    }
   ],
   "source": [
    "dim_demographics.createOrReplaceTempView(\"dem\")\n",
    "fact_immigration.createOrReplaceTempView(\"fact\")\n",
    "dim_agg_temp.createOrReplaceTempView(\"agg\")\n",
    "Result1 = spark.sql(\"\"\"\n",
    "                SELECT d.median_age,\n",
    "                d.average_household_size,\n",
    "                d.foreign_born,\n",
    "                dat.Country_Avg_Temprature,\n",
    "                dat.Country,\n",
    "                f.state_code,\n",
    "                d.State\n",
    "                FROM fact as f\n",
    "                JOIN dem as d ON (f.state_code = d.state_code)\n",
    "                JOIN agg as dat ON (f.country_res_code = dat.country_code)\n",
    "                \n",
    "                    \"\"\")\n",
    "Result1.limit(5).toPandas()"
   ]
  },
  {
   "cell_type": "code",
   "execution_count": null,
   "metadata": {
    "editable": true
   },
   "outputs": [],
   "source": [
    "dim_demographics.createOrReplaceTempView(\"dem\")\n",
    "fact_immigration.createOrReplaceTempView(\"fact\")\n",
    "dim_visa.createOrReplaceTempView(\"visa\")\n",
    "dim_agg_temp.createOrReplaceTempView(\"agg\")\n",
    "Result1 = spark.sql(\"\"\"\n",
    "                SELECT d.median_age,\n",
    "                d.average_household_size,\n",
    "                d.foreign_born,\n",
    "                dat.Country_Avg_Temprature,\n",
    "                dat.Country,\n",
    "                f.state_code,\n",
    "                v.visatype,\n",
    "                d.State\n",
    "                FROM fact as f\n",
    "                JOIN visa as v ON (f.record_id = v.record_id)\n",
    "                JOIN dem as d ON (f.state_code = d.state_code)\n",
    "                JOIN agg as dat ON (f.country_res_code = dat.country_code)\n",
    "                WHERE v.visatype = 'WT'\n",
    "                \n",
    "                    \"\"\")\n",
    "Result1.limit(5).toPandas()"
   ]
  },
  {
   "cell_type": "markdown",
   "metadata": {
    "editable": true
   },
   "source": [
    "#### 4.3 Data dictionary "
   ]
  },
  {
   "cell_type": "markdown",
   "metadata": {
    "editable": true
   },
   "source": [
    "## Data Dictionary\n",
    "\n",
    "<img src=\"../capstone image dd.PNG\" />"
   ]
  },
  {
   "cell_type": "markdown",
   "metadata": {
    "editable": true
   },
   "source": [
    "#### Step 5: Complete Project Write Up"
   ]
  },
  {
   "cell_type": "markdown",
   "metadata": {
    "editable": true
   },
   "source": [
    "**Rationale for the choice of tools and technologies for the project**\n",
    "\n",
    "- Star Schema was used because:\n",
    "    - Fact and dimension tables have been used for a star schema for a particular analytic focus.\n",
    "    - Using this model enables end users to query their data simply ( this is because we can denormalise the data making joining on tables easier) and do aggregations on the data at pace.\n",
    "- Apache spark was used because of:\n",
    "    - it's ability to handle multiple file formats \n",
    "    - it's ability to handle large amounts of data.\n",
    "    - Apache Spark offers a analytics engine for big data.\n",
    "    - Spark APIs for operating on large datasets.\n",
    "- Propose how often the data should be updated and why.\n",
    "    - The current I94 immigration data is updated monthly, and hence the data will be updated monthly.\n",
    "    \n",
    "    \n",
    "**How I would approach the problem differently under the following scenarios:**\n",
    "- The data was increased by 100x.\n",
    "    - Spark can handle the increase but we would consider increasing the number of nodes in our cluster.\n",
    "- The data populates a dashboard that must be updated on a daily basis by 7am every day.\n",
    "    - In this scenario, Apache Airflow will be used to schedule and run data pipelines.\n",
    "- The database needed to be accessed by 100+ people.\n",
    "    - In this scenario, we would move our analytics database into Amazon Redshift."
   ]
  }
 ],
 "metadata": {
  "kernelspec": {
   "display_name": "Python 3",
   "language": "python",
   "name": "python3"
  },
  "language_info": {
   "codemirror_mode": {
    "name": "ipython",
    "version": 3
   },
   "file_extension": ".py",
   "mimetype": "text/x-python",
   "name": "python",
   "nbconvert_exporter": "python",
   "pygments_lexer": "ipython3",
   "version": "3.6.3"
  }
 },
 "nbformat": 4,
 "nbformat_minor": 4
}
